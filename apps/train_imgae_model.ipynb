{
  "cells": [
    {
      "cell_type": "code",
      "execution_count": 1,
      "metadata": {
        "id": "s6RMvCP-6EeO"
      },
      "outputs": [],
      "source": [
        "import sys\n",
        "sys.path.append('../python')"
      ]
    },
    {
      "cell_type": "code",
      "execution_count": 4,
      "metadata": {
        "id": "pGp2do8C6EeO"
      },
      "outputs": [
        {
          "name": "stdout",
          "output_type": "stream",
          "text": [
            "cifar-10-batches-py/\n",
            "cifar-10-batches-py/data_batch_4\n",
            "cifar-10-batches-py/readme.html\n",
            "cifar-10-batches-py/test_batch\n",
            "cifar-10-batches-py/data_batch_3\n",
            "cifar-10-batches-py/batches.meta\n",
            "cifar-10-batches-py/data_batch_2\n",
            "cifar-10-batches-py/data_batch_5\n",
            "cifar-10-batches-py/data_batch_1\n"
          ]
        }
      ],
      "source": [
        "import urllib.request\n",
        "import os\n",
        "\n",
        "!mkdir -p '../data'\n",
        "# Download CIFAR-10 dataset\n",
        "if not os.path.isdir(\"../data/cifar-10-batches-py\"):\n",
        "    urllib.request.urlretrieve(\"https://www.cs.toronto.edu/~kriz/cifar-10-python.tar.gz\", \"../data/cifar-10-python.tar.gz\")\n",
        "    !tar -xvzf '../data/cifar-10-python.tar.gz' -C '../data'"
      ]
    },
    {
      "cell_type": "code",
      "execution_count": null,
      "metadata": {
        "colab": {
          "base_uri": "https://localhost:8080/"
        },
        "id": "w9c5W0z56Ee_",
        "outputId": "17a586dd-0353-4f1e-a4d4-19c8125703ed"
      },
      "outputs": [
        {
          "name": "stdout",
          "output_type": "stream",
          "text": [
            "train epoch0: acc: 0.38024, loss: [0.01345675]\n",
            "train epoch1: acc: 0.49024, loss: [0.01110476]\n",
            "train epoch2: acc: 0.53848, loss: [0.01007237]\n",
            "train epoch3: acc: 0.57374, loss: [0.00929827]\n",
            "train epoch4: acc: 0.60602, loss: [0.0086444]\n",
            "train epoch5: acc: 0.63472, loss: [0.00804822]\n",
            "train epoch6: acc: 0.65832, loss: [0.00747772]\n",
            "train epoch7: acc: 0.68354, loss: [0.00694914]\n",
            "train epoch8: acc: 0.70424, loss: [0.00647279]\n",
            "train epoch9: acc: 0.72674, loss: [0.00600392]\n",
            "evaluate: acc: 0.6737, loss: [0.00732776]\n"
          ]
        },
        {
          "data": {
            "text/plain": [
              "(0.6737, array([0.00732776], dtype=float32))"
            ]
          },
          "metadata": {},
          "output_type": "display_data"
        }
      ],
      "source": [
        "import sys\n",
        "sys.path.append('../python')\n",
        "import needle as ndl\n",
        "from models import ResNet9\n",
        "from simple_training import train_cifar10, evaluate_cifar10\n",
        "\n",
        "device = ndl.cuda()\n",
        "dataset = ndl.data.CIFAR10Dataset(\"../data/cifar-10-batches-py\", train=True)\n",
        "dataloader = ndl.data.DataLoader(\\\n",
        "         dataset=dataset,\n",
        "         batch_size=128,\n",
        "         shuffle=True,\n",
        "         device=device,\n",
        "         dtype=\"float32\")\n",
        "model = ResNet9(device=device, dtype=\"float32\")\n",
        "train_cifar10(model, dataloader, n_epochs=10, optimizer=ndl.optim.Adam,\n",
        "      lr=0.001, weight_decay=0.001)\n",
        "evaluate_cifar10(model, dataloader)"
      ]
    },
    {
      "cell_type": "markdown",
      "metadata": {
        "id": "nrPkdmKl6Ee-"
      },
      "source": [
        "\n",
        "\n",
        "<center><img src=\"https://github.com/dlsyscourse/hw4/blob/main/ResNet9.png?raw=true\" alt=\"ResNet9\" style=\"width: 400px;\" /></center>\n",
        "\n",
        "\n"
      ]
    }
  ],
  "metadata": {
    "accelerator": "GPU",
    "colab": {
      "history_visible": true,
      "provenance": []
    },
    "gpuClass": "standard",
    "kernelspec": {
      "display_name": "Python 3.8.0 ('dlsys')",
      "language": "python",
      "name": "python3"
    },
    "language_info": {
      "codemirror_mode": {
        "name": "ipython",
        "version": 3
      },
      "file_extension": ".py",
      "mimetype": "text/x-python",
      "name": "python",
      "nbconvert_exporter": "python",
      "pygments_lexer": "ipython3",
      "version": "3.8.0"
    },
    "vscode": {
      "interpreter": {
        "hash": "737799ad23b0610605c4b575ad9c35e3f54bc40ea0c060d523a19a8c7657d415"
      }
    }
  },
  "nbformat": 4,
  "nbformat_minor": 0
}

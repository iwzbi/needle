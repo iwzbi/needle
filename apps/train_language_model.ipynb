{
  "cells": [
    {
      "cell_type": "code",
      "execution_count": null,
      "metadata": {
        "id": "s6RMvCP-6EeO"
      },
      "outputs": [],
      "source": [
        "import sys\n",
        "sys.path.append('../python')"
      ]
    },
    {
      "cell_type": "code",
      "execution_count": 1,
      "metadata": {
        "id": "pGp2do8C6EeO"
      },
      "outputs": [],
      "source": [
        "import urllib.request\n",
        "import os\n",
        "\n",
        "!mkdir -p '../data/ptb'\n",
        "# Download Penn Treebank dataset\n",
        "ptb_data = \"https://raw.githubusercontent.com/wojzaremba/lstm/master/data/ptb.\"\n",
        "for f in ['train.txt', 'test.txt', 'valid.txt']:\n",
        "    if not os.path.exists(os.path.join('../data/ptb', f)):\n",
        "        urllib.request.urlretrieve(ptb_data + f, os.path.join('../data/ptb', f))"
      ]
    },
    {
      "cell_type": "code",
      "execution_count": null,
      "metadata": {
        "colab": {
          "base_uri": "https://localhost:8080/"
        },
        "id": "lzAgSLdB6EfG",
        "outputId": "8f9424d1-b0eb-4279-908d-05cc1f0d8ae2"
      },
      "outputs": [
        {
          "name": "stdout",
          "output_type": "stream",
          "text": [
            "train epoch0: acc: 0.10094904299631657, loss: [6.50595277]\n",
            "evaluate: acc: 0.11359900512926435, loss: [6.24159717]\n"
          ]
        },
        {
          "data": {
            "text/plain": [
              "(0.11359900512926435, array([6.24159717]))"
            ]
          },
          "metadata": {},
          "output_type": "display_data"
        }
      ],
      "source": [
        "import needle as ndl\n",
        "from models import LanguageModel\n",
        "from simple_training import train_ptb, evaluate_ptb\n",
        "\n",
        "device = ndl.cuda()\n",
        "corpus = ndl.data.Corpus(\"../data/ptb\")\n",
        "train_data = ndl.data.batchify(corpus.train, batch_size=16, device=device, dtype=\"float32\")\n",
        "model = LanguageModel(30, len(corpus.dictionary), hidden_size=10, num_layers=2, seq_model='rnn', device=device)\n",
        "train_ptb(model, train_data, seq_len=40, n_epochs=1, device=device)\n",
        "evaluate_ptb(model, train_data, seq_len=40, device=device)"
      ]
    }
  ],
  "metadata": {
    "accelerator": "GPU",
    "colab": {
      "history_visible": true,
      "provenance": []
    },
    "gpuClass": "standard",
    "kernelspec": {
      "display_name": "Python 3.8.0 ('dlsys')",
      "language": "python",
      "name": "python3"
    },
    "language_info": {
      "codemirror_mode": {
        "name": "ipython",
        "version": 3
      },
      "file_extension": ".py",
      "mimetype": "text/x-python",
      "name": "python",
      "nbconvert_exporter": "python",
      "pygments_lexer": "ipython3",
      "version": "3.8.0"
    },
    "vscode": {
      "interpreter": {
        "hash": "737799ad23b0610605c4b575ad9c35e3f54bc40ea0c060d523a19a8c7657d415"
      }
    }
  },
  "nbformat": 4,
  "nbformat_minor": 0
}
